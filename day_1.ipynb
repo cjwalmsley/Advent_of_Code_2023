{
 "cells": [
  {
   "cell_type": "code",
   "execution_count": 30,
   "id": "initial_id",
   "metadata": {
    "collapsed": true,
    "ExecuteTime": {
     "end_time": "2023-12-22T08:57:23.185379Z",
     "start_time": "2023-12-22T08:57:23.175855Z"
    }
   },
   "outputs": [
    {
     "data": {
      "text/plain": "55123"
     },
     "execution_count": 30,
     "metadata": {},
     "output_type": "execute_result"
    }
   ],
   "source": [
    "#https://adventofcode.com/2023/day/1\n",
    "\n",
    "def filter_numeric(a_string):\n",
    "    return list(filter(lambda a_character: a_character.isnumeric(), a_string))\n",
    "\n",
    "import functools\n",
    "try:\n",
    "    file = open(\"input.txt\", \"r\") \n",
    "    input = file.readlines()\n",
    "finally:\n",
    "    file.close()\n",
    "\n",
    "#input = [make_numeric(row) for row in input]\n",
    "\n",
    "input = [filter_numeric(row) for row in input]\n",
    "\n",
    "functools.reduce(lambda first, last: first + last, [int(row[0] + (row[-1])) for row in input])"
   ]
  },
  {
   "cell_type": "code",
   "execution_count": null,
   "outputs": [],
   "source": [],
   "metadata": {
    "collapsed": false
   },
   "id": "6156e2ad831e2207"
  }
 ],
 "metadata": {
  "kernelspec": {
   "display_name": "Python 3",
   "language": "python",
   "name": "python3"
  },
  "language_info": {
   "codemirror_mode": {
    "name": "ipython",
    "version": 2
   },
   "file_extension": ".py",
   "mimetype": "text/x-python",
   "name": "python",
   "nbconvert_exporter": "python",
   "pygments_lexer": "ipython2",
   "version": "2.7.6"
  }
 },
 "nbformat": 4,
 "nbformat_minor": 5
}
